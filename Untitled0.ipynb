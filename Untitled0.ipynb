{
  "nbformat": 4,
  "nbformat_minor": 0,
  "metadata": {
    "colab": {
      "provenance": [],
      "authorship_tag": "ABX9TyPtjNPJiyx70p1pLhiaA0m9",
      "include_colab_link": true
    },
    "kernelspec": {
      "name": "python3",
      "display_name": "Python 3"
    },
    "language_info": {
      "name": "python"
    }
  },
  "cells": [
    {
      "cell_type": "markdown",
      "metadata": {
        "id": "view-in-github",
        "colab_type": "text"
      },
      "source": [
        "<a href=\"https://colab.research.google.com/github/JoaoADuarte/ChatBot/blob/main/Untitled0.ipynb\" target=\"_parent\"><img src=\"https://colab.research.google.com/assets/colab-badge.svg\" alt=\"Open In Colab\"/></a>"
      ]
    },
    {
      "cell_type": "code",
      "source": [
        "!apt-get update\n",
        "!apt-get install -y chromium-browser\n",
        "!apt-get install -y chromium-chromedriver\n",
        "!pip install selenium"
      ],
      "metadata": {
        "id": "7uAFnQbABduH"
      },
      "execution_count": null,
      "outputs": []
    },
    {
      "cell_type": "code",
      "source": [
        "from selenium import webdriver\n",
        "from selenium.webdriver.chrome.service import Service\n",
        "from selenium.webdriver.chrome.options import Options\n",
        "from selenium.webdriver.common.by import By\n",
        "import time\n",
        "\n",
        "# Configurar o ChromeDriver\n",
        "chrome_options = Options()\n",
        "chrome_options.add_argument(\"--headless\")\n",
        "chrome_options.add_argument(\"--no-sandbox\")\n",
        "chrome_options.add_argument(\"--disable-dev-shm-usage\")\n",
        "chrome_options.add_argument(\"--remote-debugging-port=9222\")\n",
        "\n",
        "# Simular um navegador real com cabeçalhos personalizados\n",
        "user_agent = \"Mozilla/5.0 (Windows NT 10.0; Win64; x64) AppleWebKit/537.36 (KHTML, like Gecko) Chrome/114.0.0.0 Safari/537.36\"\n",
        "chrome_options.add_argument(f\"user-agent={user_agent}\")\n",
        "\n",
        "driver = webdriver.Chrome(options=chrome_options)\n",
        "\n",
        "# URLs das páginas para scraping\n",
        "urls = [\n",
        "    \"https://www.jardineiro.net/como-plantar-tomate-os-segredos-do-plantio-ate-a-colheita.html\",\n",
        "    \"https://www.petz.com.br/blog/plantas/como-plantar-tomate/\"\n",
        "]\n",
        "\n",
        "# Dicionário para armazenar os dados extraídos\n",
        "dados_extraidos = {}\n",
        "\n",
        "for url in urls:\n",
        "    driver.get(url)\n",
        "    time.sleep(10)  # Esperar a página carregar\n",
        "\n",
        "    # Extrair texto principal do site (ajustar conforme necessário)\n",
        "    elementos_texto = driver.find_elements(By.TAG_NAME, \"p\")  # Pegar todos os parágrafos\n",
        "\n",
        "    texto_extraido = \"\\n\".join([elemento.text for elemento in elementos_texto if elemento.text.strip()])\n",
        "    dados_extraidos[url] = texto_extraido\n",
        "\n",
        "# Fechar o navegador\n",
        "driver.quit()\n",
        "\n",
        "# Exibir os primeiros 500 caracteres de cada site\n",
        "for url, texto in dados_extraidos.items():\n",
        "    print(f\"\\nConteúdo extraído de {url}:\\n\")\n",
        "    print(texto[:500] + \"...\")  # Apenas uma prévia do texto\n"
      ],
      "metadata": {
        "colab": {
          "base_uri": "https://localhost:8080/"
        },
        "id": "O2njiLD68ytF",
        "outputId": "68855455-6aa1-4f12-b21c-3379c5b0cf9a"
      },
      "execution_count": 36,
      "outputs": [
        {
          "output_type": "stream",
          "name": "stdout",
          "text": [
            "\n",
            "Conteúdo extraído de https://www.jardineiro.net/como-plantar-tomate-os-segredos-do-plantio-ate-a-colheita.html:\n",
            "\n",
            "Guia de Jardinagem\n",
            "Atualizado em 21 de janeiro de 2024\n",
            "Certamente todos sabemos que os tomates são um dos alimentos mais afetados por agrotóxicos. Segundo a ANVISA (Agência Nacional de Vigilância Sanitária) os tomates possuem resíduos acima do permitido. Mas existe uma saída, plantar tomate na sua casa. Agora imagine você colhendo seus tomates para fazer um salada deliciosa, ou um prato especial de domingo. Isso sem se preocupar com produtos químicos que são usados em lavouras, que por outro lad...\n",
            "\n",
            "Conteúdo extraído de https://www.petz.com.br/blog/plantas/como-plantar-tomate/:\n",
            "\n",
            "Uma das principais hortaliças produzidas e consumidas no Brasil, o tomate é o “queridinho” de toda refeição. Afinal, ele vai bem com salada, pode se transformar em molho, sopa e muito mais. Porém, você já pensou em aprender como plantar tomate?\n",
            "Além de um passatempo produtivo, ao aprender como plantar tomate, você garante uma refeição mais saudável. Isso porque você é o responsável pelo plantio e se assegura de que todo o processo é orgânico e livre de agrotóxicos.\n",
            "O melhor de tudo é que você ai...\n"
          ]
        }
      ]
    }
  ]
}